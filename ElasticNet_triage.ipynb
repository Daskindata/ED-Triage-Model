{
 "cells": [
  {
   "cell_type": "code",
   "execution_count": 1,
   "metadata": {},
   "outputs": [
    {
     "name": "stderr",
     "output_type": "stream",
     "text": [
      "Updating HTML index of packages in '.Library'\n",
      "Making 'packages.html' ... done\n"
     ]
    }
   ],
   "source": [
    "install.packages(\"disk.frame\", repo=\"https://cran.rstudio.com/\")"
   ]
  },
  {
   "cell_type": "code",
   "execution_count": 2,
   "metadata": {},
   "outputs": [
    {
     "name": "stderr",
     "output_type": "stream",
     "text": [
      "Updating HTML index of packages in '.Library'\n",
      "Making 'packages.html' ... done\n",
      "Registered S3 methods overwritten by 'ggplot2':\n",
      "  method         from \n",
      "  [.quosures     rlang\n",
      "  c.quosures     rlang\n",
      "  print.quosures rlang\n",
      "Registered S3 method overwritten by 'rvest':\n",
      "  method            from\n",
      "  read_xml.response xml2\n",
      "── Attaching packages ─────────────────────────────────────── tidyverse 1.2.1 ──\n",
      "✔ ggplot2 3.1.1     ✔ purrr   0.3.2\n",
      "✔ tibble  3.0.1     ✔ dplyr   1.0.0\n",
      "✔ tidyr   0.8.3     ✔ stringr 1.4.0\n",
      "✔ readr   1.3.1     ✔ forcats 0.4.0\n",
      "── Conflicts ────────────────────────────────────────── tidyverse_conflicts() ──\n",
      "✖ dplyr::filter() masks stats::filter()\n",
      "✖ dplyr::lag()    masks stats::lag()\n",
      "Loading required package: lattice\n",
      "\n",
      "Attaching package: ‘caret’\n",
      "\n",
      "The following object is masked from ‘package:purrr’:\n",
      "\n",
      "    lift\n",
      "\n",
      "Loading required package: Matrix\n",
      "\n",
      "Attaching package: ‘Matrix’\n",
      "\n",
      "The following object is masked from ‘package:tidyr’:\n",
      "\n",
      "    expand\n",
      "\n",
      "Loading required package: foreach\n",
      "\n",
      "Attaching package: ‘foreach’\n",
      "\n",
      "The following objects are masked from ‘package:purrr’:\n",
      "\n",
      "    accumulate, when\n",
      "\n",
      "Loaded glmnet 2.0-16\n",
      "\n"
     ]
    }
   ],
   "source": [
    "install.packages(\"MASS\")\n",
    "library(tidyverse)\n",
    "library(caret)\n",
    "library(dplyr)\n",
    "library(glmnet)\n",
    "library(reticulate)\n",
    "#library(dplyr)\n",
    "sagemaker <- import('sagemaker')\n",
    "sagemaker <- import('sagemaker')\n",
    "session <- sagemaker$Session()\n",
    "bucket <- session$default_bucket()"
   ]
  },
  {
   "cell_type": "code",
   "execution_count": 3,
   "metadata": {},
   "outputs": [
    {
     "name": "stdout",
     "output_type": "stream",
     "text": [
      "'data.frame':\t556298 obs. of  76 variables:\n",
      " $ ID                          : chr  \"d5db547ae8e87d127ce0d4e51447befa5ff5012b_2019-08-04T02:50:00Z\" \"8ba1ffcd025f4002f0a94b9e5414a8868b40604f_2018-01-05T00:52:00Z\" \"75ccf97f6dbc795bd0bfc34067ab6b1a3d7e9325_2017-05-01T05:00:00Z\" \"ce3585171e5bf2dbaa366ebb9157cdbd790bcd66_2017-02-10T00:34:00Z\" ...\n",
      " $ TRIAGE_CATEGORY             : num  3 3 2 3 3 3 3 2 4 3 ...\n",
      " $ AGE                         : num  0.331 0.29 0.537 0.824 0.331 ...\n",
      " $ ADMISSION_WITHIN_48_HOURS   : num  -0.26 -0.26 -0.26 -0.26 -0.26 ...\n",
      " $ AVPU_1                      : num  -0.1489 0.0287 0.0111 -0.1489 -0.1489 ...\n",
      " $ AVPU_1_DT_TM                : num  0.0307 -0.02648 -0.02648 -0.00368 0.01594 ...\n",
      " $ GCS_1                       : num  0.060655 0.000335 0.003378 0.256747 0.003378 ...\n",
      " $ GCS_1_DT_TM                 : num  -0.06299 -0.06299 -0.06299 -0.00181 -0.06299 ...\n",
      " $ RR_1                        : num  -0.4047 -0.2827 0.5204 -0.0963 -0.4047 ...\n",
      " $ RR_1_DT_TM                  : num  -0.0128 -0.0128 -0.0128 0.0492 -0.0128 ...\n",
      " $ O2SATS_1                    : num  0.9333 -0.0826 -3.9544 -2.8682 0.3902 ...\n",
      " $ O2SATS_1_DT_TM              : num  -0.00804 -0.00804 -0.00804 -0.00804 -0.00804 ...\n",
      " $ FIO2_1                      : num  -0.0553 -0.0448 -0.0497 0.9193 -0.0497 ...\n",
      " $ FIO2_1_DT_TM                : num  -0.0184 -0.0184 -0.0184 -0.0184 -0.0184 ...\n",
      " $ PULSE_1                     : num  0.258 -0.227 0.763 -0.292 -0.751 ...\n",
      " $ PULSE_1_DT_TM               : num  -0.0118 -0.0118 -0.0118 -0.0118 -0.0118 ...\n",
      " $ HEART_RATE_1                : num  -0.37 -0.377 -0.433 -0.415 -0.433 ...\n",
      " $ HEART_RATE_1_DT_TM          : num  -0.0567 -0.0567 -0.0567 -0.0567 -0.0567 ...\n",
      " $ SBP_1                       : num  -0.145 0.242 -0.241 -0.145 1.298 ...\n",
      " $ SBP_1_DT_TM                 : num  -0.0124 -0.0124 -0.0124 -0.0124 -0.0124 ...\n",
      " $ DBP_1                       : num  0.604 0.567 0.604 -0.288 -0.824 ...\n",
      " $ DBP_1_DT_TM                 : num  -0.0124 -0.0124 -0.0124 -0.0124 -0.0124 ...\n",
      " $ MAP_1                       : num  0.15 0.474 0.588 0.231 0.796 ...\n",
      " $ MAP_1_DT_TM                 : num  -0.00105 -0.0297 -0.0297 -0.01828 -0.00844 ...\n",
      " $ TEMP_TYMP_1                 : num  0.975 -0.149 0.0871 -0.5049 -0.2089 ...\n",
      " $ TEMP_TYMP_1_DT_TM           : num  -0.0133 -0.0133 -0.0133 -0.0133 -0.0133 ...\n",
      " $ TEMP_ORAL_1                 : num  -0.182 -0.206 -0.19 -0.733 -0.19 ...\n",
      " $ TEMP_ORAL_1_DT_TM           : num  -0.0734 -0.0734 -0.0734 -0.0459 -0.0734 ...\n",
      " $ PATIENT_HEIGHT              : num  0.0843 0.6364 0.5581 0.5026 0.5581 ...\n",
      " $ PATIENT_WEIGHT              : num  0.244 0.86 0.689 0.647 0.689 ...\n",
      " $ PREGNANCY_STATUS            : num  -0.202 -0.202 -0.202 -0.202 -0.202 ...\n",
      " $ SMOKING_STATUS              : num  -0.127 -0.127 -0.127 -0.127 -0.127 ...\n",
      " $ RECENT_SURGERY_WITHIN_30_DAY: num  -0.059 -0.059 -0.059 -0.059 -0.059 ...\n",
      " $ ANY_MEDICATION_USED         : num  -0.179 -0.179 -0.179 -0.179 -0.179 ...\n",
      " $ PREVIOUS_ENC_MEDS           : num  -0.00134 -0.00134 -0.00134 -0.00134 -0.00134 ...\n",
      " $ MEDICATION_USED_STEROIDS    : num  -0.0551 -0.0551 -0.0551 -0.0551 -0.0551 ...\n",
      " $ MEDICATION_USED_IMMUNO      : num  -0.0281 -0.0281 -0.0281 -0.0281 -0.0281 ...\n",
      " $ MEDICATION_USED_ANTIB       : num  -0.079 -0.079 -0.079 -0.079 -0.079 ...\n",
      " $ MEDICATION_USED_ANTINF      : num  -0.0219 -0.0219 -0.0219 -0.0219 -0.0219 ...\n",
      " $ MEDICATION_USED_OTHER       : num  -0.0375 -0.0375 -0.0375 -0.0375 -0.0375 ...\n",
      " $ Mon                         : num  -0.42 -0.42 2.38 -0.42 -0.42 ...\n",
      " $ Tue                         : num  -0.408 -0.408 -0.408 -0.408 -0.408 ...\n",
      " $ Wed                         : num  -0.404 -0.404 -0.404 -0.404 2.478 ...\n",
      " $ Thu                         : num  -0.402 -0.402 -0.402 -0.402 -0.402 ...\n",
      " $ Fri                         : num  -0.404 2.474 -0.404 2.474 -0.404 ...\n",
      " $ Sat                         : num  -0.41 -0.41 -0.41 -0.41 -0.41 ...\n",
      " $ Sun                         : num  2.44 -0.41 -0.41 -0.41 -0.41 ...\n",
      " $ Night                       : num  1.223 1.223 1.223 1.223 -0.817 ...\n",
      " $ Morning                     : num  -0.689 -0.689 -0.689 -0.689 1.452 ...\n",
      " $ Afternoon                   : num  -0.384 -0.384 -0.384 -0.384 -0.384 ...\n",
      " $ Evening                     : num  -0.418 -0.418 -0.418 -0.418 -0.418 ...\n",
      " $ Female                      : num  1.007 -0.993 -0.993 -0.993 -0.993 ...\n",
      " $ Male                        : num  -1.007 0.993 0.993 0.993 0.993 ...\n",
      " $ Administration              : num  -0.265 -0.265 -0.265 -0.265 -0.265 ...\n",
      " $ Cardiovascular              : num  -0.381 -0.381 -0.381 -0.381 -0.381 ...\n",
      " $ Endocrine                   : num  -0.0574 -0.0574 -0.0574 -0.0574 -0.0574 ...\n",
      " $ ENT, face                   : num  -0.245 -0.245 -0.245 -0.245 -0.245 ...\n",
      " $ Gastrointestinal            : num  2.23 2.23 2.23 2.23 2.23 ...\n",
      " $ Infection                   : num  -0.208 -0.208 -0.208 -0.208 -0.208 ...\n",
      " $ Injury                      : num  -0.434 -0.434 -0.434 -0.434 -0.434 ...\n",
      " $ Mental Health               : num  -0.186 -0.186 -0.186 -0.186 -0.186 ...\n",
      " $ Musculoskeletal             : num  -0.274 -0.274 -0.274 -0.274 -0.274 ...\n",
      " $ Neurology                   : num  -0.232 -0.232 -0.232 -0.232 -0.232 ...\n",
      " $ Obstetrics and Gynaecology  : num  -0.145 -0.145 -0.145 -0.145 -0.145 ...\n",
      " $ Paediatric                  : num  -0.0376 -0.0376 -0.0376 -0.0376 -0.0376 ...\n",
      " $ Respiratory                 : num  -0.28 -0.28 -0.28 -0.28 -0.28 ...\n",
      " $ Skin                        : num  -0.224 -0.224 -0.224 -0.224 -0.224 ...\n",
      " $ Toxicology                  : num  -0.0923 -0.0923 -0.0923 -0.0923 -0.0923 ...\n",
      " $ Unwell                      : num  -0.234 -0.234 -0.234 -0.234 -0.234 ...\n",
      " $ Urology                     : num  -0.137 -0.137 -0.137 -0.137 -0.137 ...\n",
      " $ Unknown                     : num  -0.0717 -0.0717 -0.0717 -0.0717 -0.0717 ...\n",
      " $ RR_LOW                      : num  -0.0111 -0.0111 -0.0111 -0.0111 -0.0111 ...\n",
      " $ BP_critical                 : num  -0.0238 -0.0238 -0.0238 -0.0238 -0.0238 ...\n",
      " $ HR_critical                 : num  -0.0532 -0.0532 -0.0532 -0.0532 -0.0532 ...\n",
      " $ GCS_critical                : num  -0.0394 -0.0394 -0.0394 -0.0394 -0.0394 ...\n",
      " $ GCS_unresponsive            : num  -0.0669 -0.0669 -0.0669 -0.0669 -0.0669 ...\n"
     ]
    },
    {
     "data": {
      "text/plain": [
       "      ID            TRIAGE_CATEGORY      AGE          ADMISSION_WITHIN_48_HOURS\n",
       " Length:556298      Min.   :1.000   Min.   :-1.7236   Min.   :-0.2595          \n",
       " Class :character   1st Qu.:2.000   1st Qu.:-0.7373   1st Qu.:-0.2595          \n",
       " Mode  :character   Median :3.000   Median :-0.1208   Median :-0.2595          \n",
       "                    Mean   :3.156   Mean   : 0.0000   Mean   : 0.0000          \n",
       "                    3rd Qu.:4.000   3rd Qu.: 0.7832   3rd Qu.:-0.2595          \n",
       "                    Max.   :5.000   Max.   : 2.6736   Max.   : 3.8528          \n",
       "     AVPU_1           AVPU_1_DT_TM           GCS_1           \n",
       " Min.   :-0.148948   Min.   :-31.69604   Min.   :-22.484970  \n",
       " 1st Qu.:-0.148948   1st Qu.: -0.02648   1st Qu.:  0.003378  \n",
       " Median :-0.148948   Median : -0.02461   Median :  0.143044  \n",
       " Mean   : 0.000000   Mean   :  0.00000   Mean   :  0.000000  \n",
       " 3rd Qu.: 0.000915   3rd Qu.: -0.01004   3rd Qu.:  0.256747  \n",
       " Max.   :17.635976   Max.   :235.40949   Max.   :  0.256747  \n",
       "  GCS_1_DT_TM            RR_1            RR_1_DT_TM           O2SATS_1        \n",
       " Min.   :-109.250   Min.   :-3.17985   Min.   :-110.6020   Min.   :-50.65891  \n",
       " 1st Qu.:  -0.063   1st Qu.:-0.40470   1st Qu.:  -0.0128   1st Qu.: -0.25352  \n",
       " Median :  -0.063   Median :-0.27852   Median :  -0.0128   Median :  0.08962  \n",
       " Mean   :   0.000   Mean   : 0.00000   Mean   :   0.0000   Mean   :  0.00000  \n",
       " 3rd Qu.:  -0.057   3rd Qu.:-0.09635   3rd Qu.:  -0.0128   3rd Qu.:  0.39022  \n",
       " Max.   : 412.865   Max.   :35.20980   Max.   : 371.5150   Max.   :  0.93329  \n",
       " O2SATS_1_DT_TM        FIO2_1          FIO2_1_DT_TM          PULSE_1       \n",
       " Min.   :-80.297   Min.   : -0.1069   Min.   :-272.3498   Min.   :-4.1904  \n",
       " 1st Qu.: -0.008   1st Qu.: -0.0522   1st Qu.:  -0.0184   1st Qu.:-0.6130  \n",
       " Median : -0.008   Median : -0.0468   Median :  -0.0184   Median :-0.1885  \n",
       " Mean   :  0.000   Mean   :  0.0000   Mean   :   0.0000   Mean   : 0.0000  \n",
       " 3rd Qu.: -0.008   3rd Qu.: -0.0428   3rd Qu.:  -0.0184   3rd Qu.: 0.3960  \n",
       " Max.   :464.536   Max.   :729.5148   Max.   : 406.3632   Max.   : 9.5687  \n",
       " PULSE_1_DT_TM        HEART_RATE_1      HEART_RATE_1_DT_TM      SBP_1         \n",
       " Min.   :-48.41013   Min.   :-5.24884   Min.   :-60.15126   Min.   :-6.34813  \n",
       " 1st Qu.: -0.01184   1st Qu.:-0.37715   1st Qu.: -0.05674   1st Qu.:-0.67366  \n",
       " Median : -0.01184   Median :-0.32886   Median : -0.05674   Median :-0.04851  \n",
       " Mean   :  0.00000   Mean   : 0.00000   Mean   :  0.00000   Mean   : 0.00000  \n",
       " 3rd Qu.: -0.01184   3rd Qu.:-0.08127   3rd Qu.: -0.05674   3rd Qu.: 0.57664  \n",
       " Max.   :256.88459   Max.   :17.64394   Max.   :307.73801   Max.   :16.15737  \n",
       "  SBP_1_DT_TM            DBP_1           DBP_1_DT_TM            MAP_1          \n",
       " Min.   :-36.95771   Min.   :-6.89419   Min.   :-36.95668   Min.   :-6.708639  \n",
       " 1st Qu.: -0.01236   1st Qu.:-0.64545   1st Qu.: -0.01245   1st Qu.:-0.656826  \n",
       " Median : -0.01236   Median : 0.04192   Median : -0.01245   Median :-0.008227  \n",
       " Mean   :  0.00000   Mean   : 0.00000   Mean   :  0.00000   Mean   : 0.000000  \n",
       " 3rd Qu.: -0.01236   3rd Qu.: 0.51504   3rd Qu.: -0.01245   3rd Qu.: 0.499885  \n",
       " Max.   :248.59748   Max.   :11.04864   Max.   :248.58981   Max.   :11.043346  \n",
       "  MAP_1_DT_TM         TEMP_TYMP_1        TEMP_TYMP_1_DT_TM  \n",
       " Min.   :-18.88420   Min.   :-33.36049   Min.   :-46.75580  \n",
       " 1st Qu.: -0.02970   1st Qu.: -0.30761   1st Qu.: -0.01329  \n",
       " Median : -0.02970   Median : -0.02972   Median : -0.01329  \n",
       " Mean   :  0.00000   Mean   :  0.00000   Mean   :  0.00000  \n",
       " 3rd Qu.: -0.02418   3rd Qu.:  0.28438   3rd Qu.: -0.01329  \n",
       " Max.   :117.95326   Max.   :  7.09229   Max.   :292.48032  \n",
       "  TEMP_ORAL_1        TEMP_ORAL_1_DT_TM   PATIENT_HEIGHT     PATIENT_WEIGHT     \n",
       " Min.   :-84.77715   Min.   :-20.88832   Min.   :-5.89223   Min.   :-3.330318  \n",
       " 1st Qu.: -0.22807   1st Qu.: -0.07335   1st Qu.: 0.08433   1st Qu.:-0.003381  \n",
       " Median : -0.06111   Median : -0.07335   Median : 0.16320   Median : 0.243565  \n",
       " Mean   :  0.00000   Mean   :  0.00000   Mean   : 0.00000   Mean   : 0.000000  \n",
       " 3rd Qu.:  0.12525   3rd Qu.: -0.07335   3rd Qu.: 0.55812   3rd Qu.: 0.581443  \n",
       " Max.   : 10.13470   Max.   :244.39756   Max.   : 2.83041   Max.   :29.913547  \n",
       " PREGNANCY_STATUS  SMOKING_STATUS    RECENT_SURGERY_WITHIN_30_DAY\n",
       " Min.   :-0.2017   Min.   :-0.1267   Min.   :-0.05903            \n",
       " 1st Qu.:-0.2017   1st Qu.:-0.1267   1st Qu.:-0.05903            \n",
       " Median :-0.2017   Median :-0.1267   Median :-0.05903            \n",
       " Mean   : 0.0000   Mean   : 0.0000   Mean   : 0.00000            \n",
       " 3rd Qu.:-0.2017   3rd Qu.:-0.1267   3rd Qu.:-0.05903            \n",
       " Max.   : 4.9585   Max.   : 7.8936   Max.   :16.93926            \n",
       " ANY_MEDICATION_USED PREVIOUS_ENC_MEDS  MEDICATION_USED_STEROIDS\n",
       " Min.   :-0.1789     Min.   : -0.0013   Min.   :-0.05509        \n",
       " 1st Qu.:-0.1789     1st Qu.: -0.0013   1st Qu.:-0.05509        \n",
       " Median :-0.1789     Median : -0.0013   Median :-0.05509        \n",
       " Mean   : 0.0000     Mean   :  0.0000   Mean   : 0.00000        \n",
       " 3rd Qu.:-0.1789     3rd Qu.: -0.0013   3rd Qu.:-0.05509        \n",
       " Max.   : 5.5899     Max.   :745.8525   Max.   :18.15321        \n",
       " MEDICATION_USED_IMMUNO MEDICATION_USED_ANTIB MEDICATION_USED_ANTINF\n",
       " Min.   :-0.0281        Min.   :-0.07902      Min.   :-0.02187      \n",
       " 1st Qu.:-0.0281        1st Qu.:-0.07902      1st Qu.:-0.02187      \n",
       " Median :-0.0281        Median :-0.07902      Median :-0.02187      \n",
       " Mean   : 0.0000        Mean   : 0.00000      Mean   : 0.00000      \n",
       " 3rd Qu.:-0.0281        3rd Qu.:-0.07902      3rd Qu.:-0.02187      \n",
       " Max.   :35.5836        Max.   :12.65512      Max.   :45.72026      \n",
       " MEDICATION_USED_OTHER      Mon               Tue               Wed         \n",
       " Min.   :-0.03747      Min.   :-0.4202   Min.   :-0.4075   Min.   :-0.4036  \n",
       " 1st Qu.:-0.03747      1st Qu.:-0.4202   1st Qu.:-0.4075   1st Qu.:-0.4036  \n",
       " Median :-0.03747      Median :-0.4202   Median :-0.4075   Median :-0.4036  \n",
       " Mean   : 0.00000      Mean   : 0.0000   Mean   : 0.0000   Mean   : 0.0000  \n",
       " 3rd Qu.:-0.03747      3rd Qu.:-0.4202   3rd Qu.:-0.4075   3rd Qu.:-0.4036  \n",
       " Max.   :26.68710      Max.   : 2.3798   Max.   : 2.4538   Max.   : 2.4778  \n",
       "      Thu               Fri               Sat               Sun         \n",
       " Min.   :-0.4023   Min.   :-0.4042   Min.   :-0.4096   Min.   :-0.4103  \n",
       " 1st Qu.:-0.4023   1st Qu.:-0.4042   1st Qu.:-0.4096   1st Qu.:-0.4103  \n",
       " Median :-0.4023   Median :-0.4042   Median :-0.4096   Median :-0.4103  \n",
       " Mean   : 0.0000   Mean   : 0.0000   Mean   : 0.0000   Mean   : 0.0000  \n",
       " 3rd Qu.:-0.4023   3rd Qu.:-0.4042   3rd Qu.:-0.4096   3rd Qu.:-0.4103  \n",
       " Max.   : 2.4859   Max.   : 2.4742   Max.   : 2.4415   Max.   : 2.4374  \n",
       "     Night            Morning          Afternoon          Evening       \n",
       " Min.   :-0.8174   Min.   :-0.6889   Min.   :-0.3844   Min.   :-0.4183  \n",
       " 1st Qu.:-0.8174   1st Qu.:-0.6889   1st Qu.:-0.3844   1st Qu.:-0.4183  \n",
       " Median :-0.8174   Median :-0.6889   Median :-0.3844   Median :-0.4183  \n",
       " Mean   : 0.0000   Mean   : 0.0000   Mean   : 0.0000   Mean   : 0.0000  \n",
       " 3rd Qu.: 1.2233   3rd Qu.: 1.4516   3rd Qu.:-0.3844   3rd Qu.:-0.4183  \n",
       " Max.   : 1.2233   Max.   : 1.4516   Max.   : 2.6015   Max.   : 2.3909  \n",
       "     Female            Male        Administration    Cardiovascular   \n",
       " Min.   :-0.993   Min.   :-1.007   Min.   :-0.2648   Min.   :-0.3811  \n",
       " 1st Qu.:-0.993   1st Qu.:-1.007   1st Qu.:-0.2648   1st Qu.:-0.3811  \n",
       " Median :-0.993   Median : 0.993   Median :-0.2648   Median :-0.3811  \n",
       " Mean   : 0.000   Mean   : 0.000   Mean   : 0.0000   Mean   : 0.0000  \n",
       " 3rd Qu.: 1.007   3rd Qu.: 0.993   3rd Qu.:-0.2648   3rd Qu.:-0.3811  \n",
       " Max.   : 1.007   Max.   : 0.993   Max.   : 3.7770   Max.   : 2.6243  \n",
       "   Endocrine          ENT, face      Gastrointestinal    Infection      \n",
       " Min.   :-0.05736   Min.   :-0.245   Min.   :-0.4484   Min.   :-0.2083  \n",
       " 1st Qu.:-0.05736   1st Qu.:-0.245   1st Qu.:-0.4484   1st Qu.:-0.2083  \n",
       " Median :-0.05736   Median :-0.245   Median :-0.4484   Median :-0.2083  \n",
       " Mean   : 0.00000   Mean   : 0.000   Mean   : 0.0000   Mean   : 0.0000  \n",
       " 3rd Qu.:-0.05736   3rd Qu.:-0.245   3rd Qu.:-0.4484   3rd Qu.:-0.2083  \n",
       " Max.   :17.43523   Max.   : 4.082   Max.   : 2.2304   Max.   : 4.8005  \n",
       "     Injury        Mental Health     Musculoskeletal     Neurology      \n",
       " Min.   :-0.4337   Min.   :-0.1862   Min.   :-0.2736   Min.   :-0.2319  \n",
       " 1st Qu.:-0.4337   1st Qu.:-0.1862   1st Qu.:-0.2736   1st Qu.:-0.2319  \n",
       " Median :-0.4337   Median :-0.1862   Median :-0.2736   Median :-0.2319  \n",
       " Mean   : 0.0000   Mean   : 0.0000   Mean   : 0.0000   Mean   : 0.0000  \n",
       " 3rd Qu.:-0.4337   3rd Qu.:-0.1862   3rd Qu.:-0.2736   3rd Qu.:-0.2319  \n",
       " Max.   : 2.3057   Max.   : 5.3708   Max.   : 3.6552   Max.   : 4.3113  \n",
       " Obstetrics and Gynaecology   Paediatric        Respiratory     \n",
       " Min.   :-0.1453            Min.   :-0.03757   Min.   :-0.2798  \n",
       " 1st Qu.:-0.1453            1st Qu.:-0.03757   1st Qu.:-0.2798  \n",
       " Median :-0.1453            Median :-0.03757   Median :-0.2798  \n",
       " Mean   : 0.0000            Mean   : 0.00000   Mean   : 0.0000  \n",
       " 3rd Qu.:-0.1453            3rd Qu.:-0.03757   3rd Qu.:-0.2798  \n",
       " Max.   : 6.8816            Max.   :26.61884   Max.   : 3.5735  \n",
       "      Skin           Toxicology           Unwell           Urology       \n",
       " Min.   :-0.2241   Min.   :-0.09229   Min.   :-0.2337   Min.   :-0.1371  \n",
       " 1st Qu.:-0.2241   1st Qu.:-0.09229   1st Qu.:-0.2337   1st Qu.:-0.1371  \n",
       " Median :-0.2241   Median :-0.09229   Median :-0.2337   Median :-0.1371  \n",
       " Mean   : 0.0000   Mean   : 0.00000   Mean   : 0.0000   Mean   : 0.0000  \n",
       " 3rd Qu.:-0.2241   3rd Qu.:-0.09229   3rd Qu.:-0.2337   3rd Qu.:-0.1371  \n",
       " Max.   : 4.4619   Max.   :10.83566   Max.   : 4.2793   Max.   : 7.2923  \n",
       "    Unknown             RR_LOW          BP_critical        HR_critical      \n",
       " Min.   :-0.07168   Min.   :-0.01106   Min.   :-0.02384   Min.   :-0.05318  \n",
       " 1st Qu.:-0.07168   1st Qu.:-0.01106   1st Qu.:-0.02384   1st Qu.:-0.05318  \n",
       " Median :-0.07168   Median :-0.01106   Median :-0.02384   Median :-0.05318  \n",
       " Mean   : 0.00000   Mean   : 0.00000   Mean   : 0.00000   Mean   : 0.00000  \n",
       " 3rd Qu.:-0.07168   3rd Qu.:-0.01106   3rd Qu.:-0.02384   3rd Qu.:-0.05318  \n",
       " Max.   :13.95004   Max.   :90.44246   Max.   :41.94560   Max.   :18.80306  \n",
       "  GCS_critical      GCS_unresponsive  \n",
       " Min.   :-0.03937   Min.   :-0.06693  \n",
       " 1st Qu.:-0.03937   1st Qu.:-0.06693  \n",
       " Median :-0.03937   Median :-0.06693  \n",
       " Mean   : 0.00000   Mean   : 0.00000  \n",
       " 3rd Qu.:-0.03937   3rd Qu.:-0.06693  \n",
       " Max.   :25.39893   Max.   :14.94065  "
      ]
     },
     "metadata": {},
     "output_type": "display_data"
    }
   ],
   "source": [
    "# Load the data\n",
    "triagedata <- get(load(file = \"ScaledNumericData.RData\"))\n",
    "#triageData <- data\n",
    "#sapply(triageData, class)\n",
    "str(triagedata)\n",
    "summary(triagedata)"
   ]
  },
  {
   "cell_type": "code",
   "execution_count": 4,
   "metadata": {},
   "outputs": [],
   "source": [
    "#ED_data = select(data,-ID)\n",
    "triagedata$ID <- NULL\n",
    "ED_data <- triagedata"
   ]
  },
  {
   "cell_type": "code",
   "execution_count": 6,
   "metadata": {},
   "outputs": [
    {
     "name": "stdout",
     "output_type": "stream",
     "text": [
      "'data.frame':\t556298 obs. of  63 variables:\n",
      " $ TRIAGE_CATEGORY             : num  3 3 2 3 3 3 3 2 4 3 ...\n",
      " $ AGE                         : num  0.331 0.29 0.537 0.824 0.331 ...\n",
      " $ ADMISSION_WITHIN_48_HOURS   : num  -0.26 -0.26 -0.26 -0.26 -0.26 ...\n",
      " $ AVPU_1                      : num  -0.1489 0.0287 0.0111 -0.1489 -0.1489 ...\n",
      " $ GCS_1                       : num  0.060655 0.000335 0.003378 0.256747 0.003378 ...\n",
      " $ RR_1                        : num  -0.4047 -0.2827 0.5204 -0.0963 -0.4047 ...\n",
      " $ O2SATS_1                    : num  0.9333 -0.0826 -3.9544 -2.8682 0.3902 ...\n",
      " $ FIO2_1                      : num  -0.0553 -0.0448 -0.0497 0.9193 -0.0497 ...\n",
      " $ PULSE_1                     : num  0.258 -0.227 0.763 -0.292 -0.751 ...\n",
      " $ HEART_RATE_1                : num  -0.37 -0.377 -0.433 -0.415 -0.433 ...\n",
      " $ SBP_1                       : num  -0.145 0.242 -0.241 -0.145 1.298 ...\n",
      " $ DBP_1                       : num  0.604 0.567 0.604 -0.288 -0.824 ...\n",
      " $ MAP_1                       : num  0.15 0.474 0.588 0.231 0.796 ...\n",
      " $ TEMP_TYMP_1                 : num  0.975 -0.149 0.0871 -0.5049 -0.2089 ...\n",
      " $ TEMP_ORAL_1                 : num  -0.182 -0.206 -0.19 -0.733 -0.19 ...\n",
      " $ PATIENT_HEIGHT              : num  0.0843 0.6364 0.5581 0.5026 0.5581 ...\n",
      " $ PATIENT_WEIGHT              : num  0.244 0.86 0.689 0.647 0.689 ...\n",
      " $ PREGNANCY_STATUS            : num  -0.202 -0.202 -0.202 -0.202 -0.202 ...\n",
      " $ SMOKING_STATUS              : num  -0.127 -0.127 -0.127 -0.127 -0.127 ...\n",
      " $ RECENT_SURGERY_WITHIN_30_DAY: num  -0.059 -0.059 -0.059 -0.059 -0.059 ...\n",
      " $ ANY_MEDICATION_USED         : num  -0.179 -0.179 -0.179 -0.179 -0.179 ...\n",
      " $ PREVIOUS_ENC_MEDS           : num  -0.00134 -0.00134 -0.00134 -0.00134 -0.00134 ...\n",
      " $ MEDICATION_USED_STEROIDS    : num  -0.0551 -0.0551 -0.0551 -0.0551 -0.0551 ...\n",
      " $ MEDICATION_USED_IMMUNO      : num  -0.0281 -0.0281 -0.0281 -0.0281 -0.0281 ...\n",
      " $ MEDICATION_USED_ANTIB       : num  -0.079 -0.079 -0.079 -0.079 -0.079 ...\n",
      " $ MEDICATION_USED_ANTINF      : num  -0.0219 -0.0219 -0.0219 -0.0219 -0.0219 ...\n",
      " $ MEDICATION_USED_OTHER       : num  -0.0375 -0.0375 -0.0375 -0.0375 -0.0375 ...\n",
      " $ Mon                         : num  -0.42 -0.42 2.38 -0.42 -0.42 ...\n",
      " $ Tue                         : num  -0.408 -0.408 -0.408 -0.408 -0.408 ...\n",
      " $ Wed                         : num  -0.404 -0.404 -0.404 -0.404 2.478 ...\n",
      " $ Thu                         : num  -0.402 -0.402 -0.402 -0.402 -0.402 ...\n",
      " $ Fri                         : num  -0.404 2.474 -0.404 2.474 -0.404 ...\n",
      " $ Sat                         : num  -0.41 -0.41 -0.41 -0.41 -0.41 ...\n",
      " $ Sun                         : num  2.44 -0.41 -0.41 -0.41 -0.41 ...\n",
      " $ Night                       : num  1.223 1.223 1.223 1.223 -0.817 ...\n",
      " $ Morning                     : num  -0.689 -0.689 -0.689 -0.689 1.452 ...\n",
      " $ Afternoon                   : num  -0.384 -0.384 -0.384 -0.384 -0.384 ...\n",
      " $ Evening                     : num  -0.418 -0.418 -0.418 -0.418 -0.418 ...\n",
      " $ Female                      : num  1.007 -0.993 -0.993 -0.993 -0.993 ...\n",
      " $ Male                        : num  -1.007 0.993 0.993 0.993 0.993 ...\n",
      " $ Administration              : num  -0.265 -0.265 -0.265 -0.265 -0.265 ...\n",
      " $ Cardiovascular              : num  -0.381 -0.381 -0.381 -0.381 -0.381 ...\n",
      " $ Endocrine                   : num  -0.0574 -0.0574 -0.0574 -0.0574 -0.0574 ...\n",
      " $ ENT, face                   : num  -0.245 -0.245 -0.245 -0.245 -0.245 ...\n",
      " $ Gastrointestinal            : num  2.23 2.23 2.23 2.23 2.23 ...\n",
      " $ Infection                   : num  -0.208 -0.208 -0.208 -0.208 -0.208 ...\n",
      " $ Injury                      : num  -0.434 -0.434 -0.434 -0.434 -0.434 ...\n",
      " $ Mental Health               : num  -0.186 -0.186 -0.186 -0.186 -0.186 ...\n",
      " $ Musculoskeletal             : num  -0.274 -0.274 -0.274 -0.274 -0.274 ...\n",
      " $ Neurology                   : num  -0.232 -0.232 -0.232 -0.232 -0.232 ...\n",
      " $ Obstetrics and Gynaecology  : num  -0.145 -0.145 -0.145 -0.145 -0.145 ...\n",
      " $ Paediatric                  : num  -0.0376 -0.0376 -0.0376 -0.0376 -0.0376 ...\n",
      " $ Respiratory                 : num  -0.28 -0.28 -0.28 -0.28 -0.28 ...\n",
      " $ Skin                        : num  -0.224 -0.224 -0.224 -0.224 -0.224 ...\n",
      " $ Toxicology                  : num  -0.0923 -0.0923 -0.0923 -0.0923 -0.0923 ...\n",
      " $ Unwell                      : num  -0.234 -0.234 -0.234 -0.234 -0.234 ...\n",
      " $ Urology                     : num  -0.137 -0.137 -0.137 -0.137 -0.137 ...\n",
      " $ Unknown                     : num  -0.0717 -0.0717 -0.0717 -0.0717 -0.0717 ...\n",
      " $ RR_LOW                      : num  -0.0111 -0.0111 -0.0111 -0.0111 -0.0111 ...\n",
      " $ BP_critical                 : num  -0.0238 -0.0238 -0.0238 -0.0238 -0.0238 ...\n",
      " $ HR_critical                 : num  -0.0532 -0.0532 -0.0532 -0.0532 -0.0532 ...\n",
      " $ GCS_critical                : num  -0.0394 -0.0394 -0.0394 -0.0394 -0.0394 ...\n",
      " $ GCS_unresponsive            : num  -0.0669 -0.0669 -0.0669 -0.0669 -0.0669 ...\n"
     ]
    }
   ],
   "source": [
    "ED_data = triagedata %>% \n",
    "  #select(-ends_with('_2')) %>%\n",
    "  select(-ends_with('1_DT_TM')) %>%\n",
    "  #select(-ends_with('2_DT_TM')) %>%\n",
    "  #select(-c(PRESENTING_PROBLEM, PATIENT_ID,TRIAGE_DT_TM,ID,AGE_GROUP)) %>%\n",
    "  #select(-c(TRIAGE_PRESENTING_INFORMATION,TRIAGE_PRESENTING_ADDITIONAL_INFORMATION,PATIENT_PROBLEM_HISTORY)) %>%\n",
    "  select(TRIAGE_CATEGORY, everything()) \n",
    "ED_data$TRIAGE_CATEGORY = as.numeric(ED_data$TRIAGE_CATEGORY)\n",
    "str(ED_data)"
   ]
  },
  {
   "cell_type": "code",
   "execution_count": 7,
   "metadata": {},
   "outputs": [],
   "source": [
    "names(ED_data)[names(ED_data) == \"ENT, face\"] <- \"ENT_face\"\n",
    "names(ED_data)[names(ED_data) == \"Mental Health\"] <- \"Mental_Health\"\n",
    "names(ED_data)[names(ED_data) == \"Obstetrics and Gynaecology\"] <- \"Obstetrics_Gynaecology\""
   ]
  },
  {
   "cell_type": "code",
   "execution_count": 8,
   "metadata": {},
   "outputs": [
    {
     "name": "stderr",
     "output_type": "stream",
     "text": [
      "\n",
      "Attaching package: ‘magrittr’\n",
      "\n",
      "The following object is masked from ‘package:purrr’:\n",
      "\n",
      "    set_names\n",
      "\n",
      "The following object is masked from ‘package:tidyr’:\n",
      "\n",
      "    extract\n",
      "\n"
     ]
    },
    {
     "data": {
      "text/html": [
       "<ol class=list-inline>\n",
       "\t<li>445041</li>\n",
       "\t<li>63</li>\n",
       "</ol>\n"
      ],
      "text/latex": [
       "\\begin{enumerate*}\n",
       "\\item 445041\n",
       "\\item 63\n",
       "\\end{enumerate*}\n"
      ],
      "text/markdown": [
       "1. 445041\n",
       "2. 63\n",
       "\n",
       "\n"
      ],
      "text/plain": [
       "[1] 445041     63"
      ]
     },
     "metadata": {},
     "output_type": "display_data"
    }
   ],
   "source": [
    "library(magrittr)\n",
    "# Split the data into training and test set\n",
    "set.seed(123)\n",
    "training.samples <- ED_data$TRIAGE_CATEGORY %>%\n",
    "  createDataPartition(p = 0.8, list = FALSE)\n",
    "train.data  <- ED_data[training.samples, ]\n",
    "test.data <- ED_data[-training.samples, ]\n",
    "dim(train.data)"
   ]
  },
  {
   "cell_type": "code",
   "execution_count": 9,
   "metadata": {},
   "outputs": [],
   "source": [
    "# Predictor variables\n",
    "x <- model.matrix(TRIAGE_CATEGORY~ ., train.data)[,-1]\n",
    "# Outcome variable\n",
    "y <- train.data$TRIAGE_CATEGORY"
   ]
  },
  {
   "cell_type": "code",
   "execution_count": 10,
   "metadata": {},
   "outputs": [
    {
     "data": {
      "text/plain": [
       "\n",
       "Call:  glmnet(x = x, y = y, alpha = 1, lambda = NULL) \n",
       "\n",
       "      Df    %Dev    Lambda\n",
       " [1,]  0 0.00000 0.3476000\n",
       " [2,]  1 0.02298 0.3167000\n",
       " [3,]  1 0.04206 0.2886000\n",
       " [4,]  1 0.05790 0.2629000\n",
       " [5,]  1 0.07105 0.2396000\n",
       " [6,]  1 0.08197 0.2183000\n",
       " [7,]  2 0.09798 0.1989000\n",
       " [8,]  2 0.11170 0.1812000\n",
       " [9,]  3 0.12590 0.1651000\n",
       "[10,]  4 0.14030 0.1505000\n",
       "[11,]  4 0.15640 0.1371000\n",
       "[12,]  5 0.17420 0.1249000\n",
       "[13,]  6 0.19180 0.1138000\n",
       "[14,]  7 0.20770 0.1037000\n",
       "[15,] 10 0.22510 0.0944900\n",
       "[16,] 11 0.24240 0.0861000\n",
       "[17,] 11 0.25700 0.0784500\n",
       "[18,] 13 0.26950 0.0714800\n",
       "[19,] 13 0.28020 0.0651300\n",
       "[20,] 13 0.28900 0.0593400\n",
       "[21,] 13 0.29630 0.0540700\n",
       "[22,] 14 0.30240 0.0492700\n",
       "[23,] 14 0.30770 0.0448900\n",
       "[24,] 15 0.31210 0.0409000\n",
       "[25,] 16 0.31620 0.0372700\n",
       "[26,] 16 0.31960 0.0339600\n",
       "[27,] 17 0.32250 0.0309400\n",
       "[28,] 18 0.32500 0.0281900\n",
       "[29,] 19 0.32730 0.0256900\n",
       "[30,] 22 0.32960 0.0234100\n",
       "[31,] 22 0.33170 0.0213300\n",
       "[32,] 24 0.33350 0.0194300\n",
       "[33,] 25 0.33510 0.0177100\n",
       "[34,] 28 0.33670 0.0161300\n",
       "[35,] 28 0.33820 0.0147000\n",
       "[36,] 30 0.33940 0.0133900\n",
       "[37,] 30 0.34050 0.0122000\n",
       "[38,] 31 0.34140 0.0111200\n",
       "[39,] 31 0.34220 0.0101300\n",
       "[40,] 31 0.34280 0.0092320\n",
       "[41,] 31 0.34330 0.0084120\n",
       "[42,] 34 0.34380 0.0076650\n",
       "[43,] 34 0.34420 0.0069840\n",
       "[44,] 34 0.34450 0.0063630\n",
       "[45,] 34 0.34480 0.0057980\n",
       "[46,] 35 0.34500 0.0052830\n",
       "[47,] 38 0.34520 0.0048140\n",
       "[48,] 39 0.34540 0.0043860\n",
       "[49,] 39 0.34550 0.0039960\n",
       "[50,] 41 0.34560 0.0036410\n",
       "[51,] 42 0.34570 0.0033180\n",
       "[52,] 44 0.34580 0.0030230\n",
       "[53,] 44 0.34590 0.0027540\n",
       "[54,] 45 0.34600 0.0025100\n",
       "[55,] 47 0.34600 0.0022870\n",
       "[56,] 48 0.34610 0.0020840\n",
       "[57,] 48 0.34610 0.0018990\n",
       "[58,] 48 0.34610 0.0017300\n",
       "[59,] 49 0.34620 0.0015760\n",
       "[60,] 49 0.34620 0.0014360\n",
       "[61,] 50 0.34620 0.0013090\n",
       "[62,] 50 0.34620 0.0011920\n",
       "[63,] 51 0.34620 0.0010860\n",
       "[64,] 53 0.34630 0.0009899\n",
       "[65,] 53 0.34630 0.0009020\n",
       "[66,] 53 0.34630 0.0008218\n",
       "[67,] 53 0.34630 0.0007488\n",
       "[68,] 53 0.34630 0.0006823\n",
       "[69,] 54 0.34630 0.0006217\n",
       "[70,] 55 0.34630 0.0005665\n",
       "[71,] 55 0.34630 0.0005161\n",
       "[72,] 55 0.34630 0.0004703\n",
       "[73,] 55 0.34630 0.0004285\n",
       "[74,] 55 0.34630 0.0003904\n",
       "[75,] 55 0.34630 0.0003558\n",
       "[76,] 56 0.34630 0.0003242"
      ]
     },
     "metadata": {},
     "output_type": "display_data"
    }
   ],
   "source": [
    "glmnet(x, y, alpha = 1, lambda = NULL)"
   ]
  },
  {
   "cell_type": "code",
   "execution_count": 11,
   "metadata": {},
   "outputs": [
    {
     "data": {
      "text/html": [
       "0.0381464276428657"
      ],
      "text/latex": [
       "0.0381464276428657"
      ],
      "text/markdown": [
       "0.0381464276428657"
      ],
      "text/plain": [
       "[1] 0.03814643"
      ]
     },
     "metadata": {},
     "output_type": "display_data"
    }
   ],
   "source": [
    "#Computing ridge regression\n",
    "# Find the best lambda using cross-validation\n",
    "set.seed(123) \n",
    "cv <- cv.glmnet(x, y, alpha = 0)\n",
    "# Display the best lambda value\n",
    "cv$lambda.min"
   ]
  },
  {
   "cell_type": "code",
   "execution_count": 12,
   "metadata": {},
   "outputs": [
    {
     "data": {
      "text/plain": [
       "63 x 1 sparse Matrix of class \"dgCMatrix\"\n",
       "                                        s0\n",
       "(Intercept)                   3.155567e+00\n",
       "AGE                          -1.650142e-01\n",
       "ADMISSION_WITHIN_48_HOURS     1.676711e-02\n",
       "AVPU_1                       -2.687100e-02\n",
       "GCS_1                         4.980518e-02\n",
       "RR_1                         -1.170464e-01\n",
       "O2SATS_1                     -2.388349e-02\n",
       "FIO2_1                       -3.130623e-04\n",
       "PULSE_1                      -1.219474e-01\n",
       "HEART_RATE_1                  1.397151e-02\n",
       "SBP_1                        -5.871376e-02\n",
       "DBP_1                         4.609453e-02\n",
       "MAP_1                        -5.407700e-03\n",
       "TEMP_TYMP_1                  -1.782308e-02\n",
       "TEMP_ORAL_1                  -4.764100e-04\n",
       "PATIENT_HEIGHT               -5.919232e-02\n",
       "PATIENT_WEIGHT                2.253494e-04\n",
       "PREGNANCY_STATUS             -4.819834e-02\n",
       "SMOKING_STATUS               -1.285877e-02\n",
       "RECENT_SURGERY_WITHIN_30_DAY  2.126074e-06\n",
       "ANY_MEDICATION_USED          -4.184756e-03\n",
       "PREVIOUS_ENC_MEDS            -9.113041e-04\n",
       "MEDICATION_USED_STEROIDS     -5.479031e-03\n",
       "MEDICATION_USED_IMMUNO       -5.577379e-04\n",
       "MEDICATION_USED_ANTIB         5.474626e-03\n",
       "MEDICATION_USED_ANTINF        1.233917e-03\n",
       "MEDICATION_USED_OTHER        -1.709450e-04\n",
       "Mon                           2.148956e-03\n",
       "Tue                          -2.977447e-03\n",
       "Wed                          -4.377745e-03\n",
       "Thu                          -1.828314e-03\n",
       "Fri                          -4.310770e-04\n",
       "Sat                           2.226671e-03\n",
       "Sun                           3.602524e-03\n",
       "Night                         9.644523e-03\n",
       "Morning                      -1.121910e-02\n",
       "Afternoon                    -2.276975e-02\n",
       "Evening                       2.415066e-02\n",
       "Female                        3.249929e-03\n",
       "Male                         -2.036815e-03\n",
       "Administration                1.997808e-01\n",
       "Cardiovascular               -2.860095e-01\n",
       "Endocrine                    -2.151916e-02\n",
       "ENT_face                      1.022896e-01\n",
       "Gastrointestinal              2.395810e-02\n",
       "Infection                    -2.641332e-03\n",
       "Injury                        2.038491e-03\n",
       "Mental_Health                -9.327852e-02\n",
       "Musculoskeletal               1.353387e-01\n",
       "Neurology                    -7.851059e-02\n",
       "Obstetrics_Gynaecology        8.764867e-03\n",
       "Paediatric                    8.243877e-03\n",
       "Respiratory                  -3.491019e-02\n",
       "Skin                          8.894396e-02\n",
       "Toxicology                   -3.512142e-02\n",
       "Unwell                       -2.971803e-04\n",
       "Urology                       9.902526e-03\n",
       "Unknown                      -2.329364e-02\n",
       "RR_LOW                       -3.427344e-03\n",
       "BP_critical                  -1.345865e-02\n",
       "HR_critical                  -1.770917e-02\n",
       "GCS_critical                 -9.240130e-03\n",
       "GCS_unresponsive             -1.221033e-02"
      ]
     },
     "metadata": {},
     "output_type": "display_data"
    }
   ],
   "source": [
    "# Fit the final model on the training data\n",
    "model <- glmnet(x, y, alpha = 0, lambda = cv$lambda.min)\n",
    "# Display regression coefficients\n",
    "coef(model)"
   ]
  },
  {
   "cell_type": "code",
   "execution_count": 13,
   "metadata": {},
   "outputs": [
    {
     "data": {
      "text/html": [
       "<table>\n",
       "<thead><tr><th scope=col>RMSE</th><th scope=col>Rsquare</th></tr></thead>\n",
       "<tbody>\n",
       "\t<tr><td>0.7645369</td><td>0.3454458</td></tr>\n",
       "</tbody>\n",
       "</table>\n"
      ],
      "text/latex": [
       "\\begin{tabular}{r|ll}\n",
       " RMSE & Rsquare\\\\\n",
       "\\hline\n",
       "\t 0.7645369 & 0.3454458\\\\\n",
       "\\end{tabular}\n"
      ],
      "text/markdown": [
       "\n",
       "| RMSE | Rsquare |\n",
       "|---|---|\n",
       "| 0.7645369 | 0.3454458 |\n",
       "\n"
      ],
      "text/plain": [
       "  RMSE      Rsquare  \n",
       "1 0.7645369 0.3454458"
      ]
     },
     "metadata": {},
     "output_type": "display_data"
    }
   ],
   "source": [
    "#Make predictions on the test data\n",
    "x.test <- model.matrix(TRIAGE_CATEGORY ~., test.data)[,-1]\n",
    "predictions <- model %>% predict(x.test) %>% as.vector()\n",
    "# Model performance metrics\n",
    "data.frame(\n",
    "  RMSE = RMSE(predictions, test.data$TRIAGE_CATEGORY),\n",
    "  Rsquare = R2(predictions, test.data$TRIAGE_CATEGORY)\n",
    ")"
   ]
  },
  {
   "cell_type": "code",
   "execution_count": 14,
   "metadata": {},
   "outputs": [
    {
     "data": {
      "text/html": [
       "0.000390440519825258"
      ],
      "text/latex": [
       "0.000390440519825258"
      ],
      "text/markdown": [
       "0.000390440519825258"
      ],
      "text/plain": [
       "[1] 0.0003904405"
      ]
     },
     "metadata": {},
     "output_type": "display_data"
    }
   ],
   "source": [
    "#Computing lasso regression\n",
    "# Find the best lambda using cross-validation\n",
    "set.seed(123) \n",
    "cv <- cv.glmnet(x, y, alpha = 1)\n",
    "# Display the best lambda value\n",
    "cv$lambda.min"
   ]
  },
  {
   "cell_type": "code",
   "execution_count": 15,
   "metadata": {},
   "outputs": [
    {
     "data": {
      "text/plain": [
       "63 x 1 sparse Matrix of class \"dgCMatrix\"\n",
       "                                        s0\n",
       "(Intercept)                   3.155565e+00\n",
       "AGE                          -1.773297e-01\n",
       "ADMISSION_WITHIN_48_HOURS     1.479250e-02\n",
       "AVPU_1                       -2.686227e-02\n",
       "GCS_1                         5.232919e-02\n",
       "RR_1                         -1.228898e-01\n",
       "O2SATS_1                     -2.638789e-02\n",
       "FIO2_1                        .           \n",
       "PULSE_1                      -1.304692e-01\n",
       "HEART_RATE_1                  6.041176e-03\n",
       "SBP_1                        -6.064153e-02\n",
       "DBP_1                         4.726861e-02\n",
       "MAP_1                        -1.163862e-03\n",
       "TEMP_TYMP_1                  -1.760102e-02\n",
       "TEMP_ORAL_1                  -1.439481e-03\n",
       "PATIENT_HEIGHT               -8.570050e-02\n",
       "PATIENT_WEIGHT                1.562134e-02\n",
       "PREGNANCY_STATUS             -4.769122e-02\n",
       "SMOKING_STATUS               -1.272920e-02\n",
       "RECENT_SURGERY_WITHIN_30_DAY  .           \n",
       "ANY_MEDICATION_USED          -2.728185e-03\n",
       "PREVIOUS_ENC_MEDS            -5.942606e-04\n",
       "MEDICATION_USED_STEROIDS     -5.282499e-03\n",
       "MEDICATION_USED_IMMUNO       -2.004509e-04\n",
       "MEDICATION_USED_ANTIB         4.690737e-03\n",
       "MEDICATION_USED_ANTINF        8.818292e-04\n",
       "MEDICATION_USED_OTHER         .           \n",
       "Mon                           2.331067e-03\n",
       "Tue                          -2.179692e-03\n",
       "Wed                          -3.669591e-03\n",
       "Thu                          -9.283335e-04\n",
       "Fri                           .           \n",
       "Sat                           2.183193e-03\n",
       "Sun                           3.639964e-03\n",
       "Night                         1.025098e-02\n",
       "Morning                      -1.100916e-02\n",
       "Afternoon                    -2.254431e-02\n",
       "Evening                       2.483547e-02\n",
       "Female                        4.648924e-03\n",
       "Male                         -1.045363e-12\n",
       "Administration                2.042339e-01\n",
       "Cardiovascular               -2.997833e-01\n",
       "Endocrine                    -2.240636e-02\n",
       "ENT_face                      1.021818e-01\n",
       "Gastrointestinal              1.917887e-02\n",
       "Infection                    -3.070135e-03\n",
       "Injury                       -2.833069e-03\n",
       "Mental_Health                -9.917722e-02\n",
       "Musculoskeletal               1.363188e-01\n",
       "Neurology                    -8.396071e-02\n",
       "Obstetrics_Gynaecology        6.396080e-03\n",
       "Paediatric                    8.089134e-03\n",
       "Respiratory                  -3.620862e-02\n",
       "Skin                          8.894467e-02\n",
       "Toxicology                   -3.740945e-02\n",
       "Unwell                       -1.541202e-03\n",
       "Urology                       8.467636e-03\n",
       "Unknown                      -2.447450e-02\n",
       "RR_LOW                       -3.355160e-03\n",
       "BP_critical                  -1.330450e-02\n",
       "HR_critical                  -1.658979e-02\n",
       "GCS_critical                 -6.521529e-03\n",
       "GCS_unresponsive             -1.016694e-02"
      ]
     },
     "metadata": {},
     "output_type": "display_data"
    }
   ],
   "source": [
    "# Fit the final model on the training data\n",
    "model <- glmnet(x, y, alpha = 1, lambda = cv$lambda.min)\n",
    "# Dsiplay regression coefficients\n",
    "coef(model)"
   ]
  },
  {
   "cell_type": "code",
   "execution_count": 16,
   "metadata": {},
   "outputs": [
    {
     "data": {
      "text/html": [
       "<table>\n",
       "<thead><tr><th scope=col>RMSE</th><th scope=col>Rsquare</th></tr></thead>\n",
       "<tbody>\n",
       "\t<tr><td>0.7642917</td><td>0.3455341</td></tr>\n",
       "</tbody>\n",
       "</table>\n"
      ],
      "text/latex": [
       "\\begin{tabular}{r|ll}\n",
       " RMSE & Rsquare\\\\\n",
       "\\hline\n",
       "\t 0.7642917 & 0.3455341\\\\\n",
       "\\end{tabular}\n"
      ],
      "text/markdown": [
       "\n",
       "| RMSE | Rsquare |\n",
       "|---|---|\n",
       "| 0.7642917 | 0.3455341 |\n",
       "\n"
      ],
      "text/plain": [
       "  RMSE      Rsquare  \n",
       "1 0.7642917 0.3455341"
      ]
     },
     "metadata": {},
     "output_type": "display_data"
    }
   ],
   "source": [
    "# Make predictions on the test data\n",
    "x.test <- model.matrix(TRIAGE_CATEGORY ~., test.data)[,-1]\n",
    "predictions <- model %>% predict(x.test) %>% as.vector()\n",
    "# Model performance metrics\n",
    "data.frame(\n",
    "  RMSE = RMSE(predictions, test.data$TRIAGE_CATEGORY),\n",
    "  Rsquare = R2(predictions, test.data$TRIAGE_CATEGORY)\n",
    ")"
   ]
  },
  {
   "cell_type": "code",
   "execution_count": 17,
   "metadata": {},
   "outputs": [
    {
     "data": {
      "text/html": [
       "<table>\n",
       "<thead><tr><th></th><th scope=col>alpha</th><th scope=col>lambda</th></tr></thead>\n",
       "<tbody>\n",
       "\t<tr><th scope=row>81</th><td>0.9         </td><td>0.0001605891</td></tr>\n",
       "</tbody>\n",
       "</table>\n"
      ],
      "text/latex": [
       "\\begin{tabular}{r|ll}\n",
       "  & alpha & lambda\\\\\n",
       "\\hline\n",
       "\t81 & 0.9          & 0.0001605891\\\\\n",
       "\\end{tabular}\n"
      ],
      "text/markdown": [
       "\n",
       "| <!--/--> | alpha | lambda |\n",
       "|---|---|---|\n",
       "| 81 | 0.9          | 0.0001605891 |\n",
       "\n"
      ],
      "text/plain": [
       "   alpha lambda      \n",
       "81 0.9   0.0001605891"
      ]
     },
     "metadata": {},
     "output_type": "display_data"
    }
   ],
   "source": [
    "#Computing elastic net regession\n",
    "# Build the model using the training set - ELASTICNET\n",
    "set.seed(123)\n",
    "model <- train(\n",
    "  TRIAGE_CATEGORY ~., data = train.data, method = \"glmnet\",\n",
    "  trControl = trainControl(\"cv\", number = 10),\n",
    "  tuneLength = 10\n",
    ")\n",
    "# Best tuning parameter\n",
    "model$bestTune"
   ]
  },
  {
   "cell_type": "code",
   "execution_count": 18,
   "metadata": {},
   "outputs": [
    {
     "data": {
      "text/plain": [
       "63 x 1 sparse Matrix of class \"dgCMatrix\"\n",
       "                                         1\n",
       "(Intercept)                   3.155565e+00\n",
       "AGE                          -1.774938e-01\n",
       "ADMISSION_WITHIN_48_HOURS     1.482612e-02\n",
       "AVPU_1                       -2.689213e-02\n",
       "GCS_1                         5.230579e-02\n",
       "RR_1                         -1.227664e-01\n",
       "O2SATS_1                     -2.651902e-02\n",
       "FIO2_1                        .           \n",
       "PULSE_1                      -1.303034e-01\n",
       "HEART_RATE_1                  5.710473e-03\n",
       "SBP_1                        -6.063507e-02\n",
       "DBP_1                         4.750507e-02\n",
       "MAP_1                        -1.281590e-03\n",
       "TEMP_TYMP_1                  -1.769104e-02\n",
       "TEMP_ORAL_1                  -1.575827e-03\n",
       "PATIENT_HEIGHT               -8.435181e-02\n",
       "PATIENT_WEIGHT                1.420788e-02\n",
       "PREGNANCY_STATUS             -4.772100e-02\n",
       "SMOKING_STATUS               -1.279330e-02\n",
       "RECENT_SURGERY_WITHIN_30_DAY -4.810549e-06\n",
       "ANY_MEDICATION_USED          -2.805783e-03\n",
       "PREVIOUS_ENC_MEDS            -6.545090e-04\n",
       "MEDICATION_USED_STEROIDS     -5.339301e-03\n",
       "MEDICATION_USED_IMMUNO       -2.487055e-04\n",
       "MEDICATION_USED_ANTIB         4.802993e-03\n",
       "MEDICATION_USED_ANTINF        9.545986e-04\n",
       "MEDICATION_USED_OTHER         .           \n",
       "Mon                           2.377378e-03\n",
       "Tue                          -2.243864e-03\n",
       "Wed                          -3.731457e-03\n",
       "Thu                          -9.901236e-04\n",
       "Fri                           .           \n",
       "Sat                           2.233915e-03\n",
       "Sun                           3.689577e-03\n",
       "Night                         .           \n",
       "Morning                      -2.086556e-02\n",
       "Afternoon                    -2.964883e-02\n",
       "Evening                       1.740058e-02\n",
       "Female                        4.672675e-03\n",
       "Male                         -3.386543e-05\n",
       "Administration                2.063860e-01\n",
       "Cardiovascular               -2.969978e-01\n",
       "Endocrine                    -2.198651e-02\n",
       "ENT_face                      1.041896e-01\n",
       "Gastrointestinal              2.236347e-02\n",
       "Infection                    -1.430131e-03\n",
       "Injury                        .           \n",
       "Mental_Health                -9.776385e-02\n",
       "Musculoskeletal               1.384884e-01\n",
       "Neurology                    -8.219160e-02\n",
       "Obstetrics_Gynaecology        7.612987e-03\n",
       "Paediatric                    8.475317e-03\n",
       "Respiratory                  -3.413253e-02\n",
       "Skin                          9.076580e-02\n",
       "Toxicology                   -3.672546e-02\n",
       "Unwell                        .           \n",
       "Urology                       9.638962e-03\n",
       "Unknown                      -2.395227e-02\n",
       "RR_LOW                       -3.417865e-03\n",
       "BP_critical                  -1.335685e-02\n",
       "HR_critical                  -1.662752e-02\n",
       "GCS_critical                 -6.583003e-03\n",
       "GCS_unresponsive             -1.021917e-02"
      ]
     },
     "metadata": {},
     "output_type": "display_data"
    }
   ],
   "source": [
    "# Coefficient of the final model. You need\n",
    "# to specify the best lambda\n",
    "coef(model$finalModel, model$bestTune$lambda)"
   ]
  },
  {
   "cell_type": "code",
   "execution_count": 19,
   "metadata": {},
   "outputs": [
    {
     "data": {
      "text/html": [
       "<table>\n",
       "<thead><tr><th scope=col>RMSE</th><th scope=col>Rsquare</th></tr></thead>\n",
       "<tbody>\n",
       "\t<tr><td>0.7642905</td><td>0.3455363</td></tr>\n",
       "</tbody>\n",
       "</table>\n"
      ],
      "text/latex": [
       "\\begin{tabular}{r|ll}\n",
       " RMSE & Rsquare\\\\\n",
       "\\hline\n",
       "\t 0.7642905 & 0.3455363\\\\\n",
       "\\end{tabular}\n"
      ],
      "text/markdown": [
       "\n",
       "| RMSE | Rsquare |\n",
       "|---|---|\n",
       "| 0.7642905 | 0.3455363 |\n",
       "\n"
      ],
      "text/plain": [
       "  RMSE      Rsquare  \n",
       "1 0.7642905 0.3455363"
      ]
     },
     "metadata": {},
     "output_type": "display_data"
    }
   ],
   "source": [
    "# Make predictions on the test data\n",
    "x.test <- model.matrix(TRIAGE_CATEGORY ~., test.data)[,-1]\n",
    "predictions <- model %>% predict(x.test)\n",
    "# Model performance metrics\n",
    "data.frame(\n",
    "  RMSE = RMSE(predictions, test.data$TRIAGE_CATEGORY),\n",
    "  Rsquare = R2(predictions, test.data$TRIAGE_CATEGORY)\n",
    ")"
   ]
  },
  {
   "cell_type": "code",
   "execution_count": 20,
   "metadata": {},
   "outputs": [],
   "source": [
    "#Comparing the different models\n",
    "#Setup a grid range of lambda values:\n",
    "lambda <- 10^seq(-3, 3, length = 100)"
   ]
  },
  {
   "cell_type": "code",
   "execution_count": 21,
   "metadata": {},
   "outputs": [
    {
     "name": "stderr",
     "output_type": "stream",
     "text": [
      "Warning message in nominalTrainWorkflow(x = x, y = y, wts = weights, info = trainInfo, :\n",
      "“There were missing values in resampled performance measures.”"
     ]
    },
    {
     "data": {
      "text/plain": [
       "63 x 1 sparse Matrix of class \"dgCMatrix\"\n",
       "                                         1\n",
       "(Intercept)                   3.155566e+00\n",
       "AGE                          -1.657619e-01\n",
       "ADMISSION_WITHIN_48_HOURS     1.661996e-02\n",
       "AVPU_1                       -2.691383e-02\n",
       "GCS_1                         4.988354e-02\n",
       "RR_1                         -1.173975e-01\n",
       "O2SATS_1                     -2.413697e-02\n",
       "FIO2_1                       -2.932760e-04\n",
       "PULSE_1                      -1.226789e-01\n",
       "HEART_RATE_1                  1.480408e-02\n",
       "SBP_1                        -5.886751e-02\n",
       "DBP_1                         4.629692e-02\n",
       "MAP_1                        -5.247566e-03\n",
       "TEMP_TYMP_1                  -1.784129e-02\n",
       "TEMP_ORAL_1                  -5.363779e-04\n",
       "PATIENT_HEIGHT               -5.826499e-02\n",
       "PATIENT_WEIGHT               -1.618105e-04\n",
       "PREGNANCY_STATUS             -4.818090e-02\n",
       "SMOKING_STATUS               -1.287959e-02\n",
       "RECENT_SURGERY_WITHIN_30_DAY -2.511415e-05\n",
       "ANY_MEDICATION_USED          -4.109642e-03\n",
       "PREVIOUS_ENC_MEDS            -9.132845e-04\n",
       "MEDICATION_USED_STEROIDS     -5.492989e-03\n",
       "MEDICATION_USED_IMMUNO       -5.503844e-04\n",
       "MEDICATION_USED_ANTIB         5.469703e-03\n",
       "MEDICATION_USED_ANTINF        1.241651e-03\n",
       "MEDICATION_USED_OTHER        -1.723883e-04\n",
       "Mon                           2.390810e-03\n",
       "Tue                          -2.747631e-03\n",
       "Wed                          -4.157144e-03\n",
       "Thu                          -1.599333e-03\n",
       "Fri                          -2.122846e-04\n",
       "Sat                           2.430751e-03\n",
       "Sun                           3.814248e-03\n",
       "Night                         9.347088e-03\n",
       "Morning                      -1.156559e-02\n",
       "Afternoon                    -2.302712e-02\n",
       "Evening                       2.397927e-02\n",
       "Female                        2.742751e-03\n",
       "Male                         -2.703431e-03\n",
       "Administration                2.020470e-01\n",
       "Cardiovascular               -2.847099e-01\n",
       "Endocrine                    -2.121078e-02\n",
       "ENT_face                      1.040241e-01\n",
       "Gastrointestinal              2.632047e-02\n",
       "Infection                    -1.247295e-03\n",
       "Injury                        4.220642e-03\n",
       "Mental_Health                -9.254055e-02\n",
       "Musculoskeletal               1.372860e-01\n",
       "Neurology                    -7.742100e-02\n",
       "Obstetrics_Gynaecology        9.594285e-03\n",
       "Paediatric                    8.542145e-03\n",
       "Respiratory                  -3.325761e-02\n",
       "Skin                          9.049104e-02\n",
       "Toxicology                   -3.471229e-02\n",
       "Unwell                        1.118386e-03\n",
       "Urology                       1.075116e-02\n",
       "Unknown                      -2.292872e-02\n",
       "RR_LOW                       -3.447424e-03\n",
       "BP_critical                  -1.347745e-02\n",
       "HR_critical                  -1.773718e-02\n",
       "GCS_critical                 -9.151936e-03\n",
       "GCS_unresponsive             -1.214545e-02"
      ]
     },
     "metadata": {},
     "output_type": "display_data"
    },
    {
     "data": {
      "text/html": [
       "<table>\n",
       "<thead><tr><th scope=col>RMSE</th><th scope=col>Rsquare</th></tr></thead>\n",
       "<tbody>\n",
       "\t<tr><td>0.7645074</td><td>0.3454384</td></tr>\n",
       "</tbody>\n",
       "</table>\n"
      ],
      "text/latex": [
       "\\begin{tabular}{r|ll}\n",
       " RMSE & Rsquare\\\\\n",
       "\\hline\n",
       "\t 0.7645074 & 0.3454384\\\\\n",
       "\\end{tabular}\n"
      ],
      "text/markdown": [
       "\n",
       "| RMSE | Rsquare |\n",
       "|---|---|\n",
       "| 0.7645074 | 0.3454384 |\n",
       "\n"
      ],
      "text/plain": [
       "  RMSE      Rsquare  \n",
       "1 0.7645074 0.3454384"
      ]
     },
     "metadata": {},
     "output_type": "display_data"
    }
   ],
   "source": [
    "# Build the model Compute ridge regression:\n",
    "set.seed(123)\n",
    "ridge <- train(\n",
    "  TRIAGE_CATEGORY ~., data = train.data, method = \"glmnet\",\n",
    "  trControl = trainControl(\"cv\", number = 10),\n",
    "  tuneGrid = expand.grid(alpha = 0, lambda = lambda)\n",
    "  )\n",
    "# Model coefficients\n",
    "coef(ridge$finalModel, ridge$bestTune$lambda)\n",
    "# Make predictions\n",
    "predictions <- ridge %>% predict(test.data)\n",
    "# Model prediction performance\n",
    "data.frame(\n",
    "  RMSE = RMSE(predictions, test.data$TRIAGE_CATEGORY),\n",
    "  Rsquare = R2(predictions, test.data$TRIAGE_CATEGORY)\n",
    ")"
   ]
  },
  {
   "cell_type": "code",
   "execution_count": 22,
   "metadata": {},
   "outputs": [
    {
     "name": "stderr",
     "output_type": "stream",
     "text": [
      "Warning message in nominalTrainWorkflow(x = x, y = y, wts = weights, info = trainInfo, :\n",
      "“There were missing values in resampled performance measures.”"
     ]
    },
    {
     "data": {
      "text/plain": [
       "63 x 1 sparse Matrix of class \"dgCMatrix\"\n",
       "                                         1\n",
       "(Intercept)                   3.155564e+00\n",
       "AGE                          -1.764519e-01\n",
       "ADMISSION_WITHIN_48_HOURS     1.433039e-02\n",
       "AVPU_1                       -2.630358e-02\n",
       "GCS_1                         5.504711e-02\n",
       "RR_1                         -1.223040e-01\n",
       "O2SATS_1                     -2.541577e-02\n",
       "FIO2_1                        .           \n",
       "PULSE_1                      -1.288827e-01\n",
       "HEART_RATE_1                  1.929791e-03\n",
       "SBP_1                        -6.016980e-02\n",
       "DBP_1                         4.614889e-02\n",
       "MAP_1                         .           \n",
       "TEMP_TYMP_1                  -1.713621e-02\n",
       "TEMP_ORAL_1                  -6.029299e-04\n",
       "PATIENT_HEIGHT               -7.295456e-02\n",
       "PATIENT_WEIGHT                3.025561e-05\n",
       "PREGNANCY_STATUS             -4.739158e-02\n",
       "SMOKING_STATUS               -1.208661e-02\n",
       "RECENT_SURGERY_WITHIN_30_DAY  .           \n",
       "ANY_MEDICATION_USED          -1.934746e-03\n",
       "PREVIOUS_ENC_MEDS            -6.239331e-05\n",
       "MEDICATION_USED_STEROIDS     -4.681667e-03\n",
       "MEDICATION_USED_IMMUNO        .           \n",
       "MEDICATION_USED_ANTIB         3.613258e-03\n",
       "MEDICATION_USED_ANTINF        2.052080e-04\n",
       "MEDICATION_USED_OTHER         .           \n",
       "Mon                           1.786886e-03\n",
       "Tue                          -1.702767e-03\n",
       "Wed                          -3.196216e-03\n",
       "Thu                          -4.509030e-04\n",
       "Fri                           .           \n",
       "Sat                           1.640577e-03\n",
       "Sun                           3.118140e-03\n",
       "Night                         .           \n",
       "Morning                      -2.000415e-02\n",
       "Afternoon                    -2.873328e-02\n",
       "Evening                       1.726941e-02\n",
       "Female                        3.140900e-03\n",
       "Male                         -6.493759e-13\n",
       "Administration                2.058140e-01\n",
       "Cardiovascular               -2.965819e-01\n",
       "Endocrine                    -2.137762e-02\n",
       "ENT_face                      1.036680e-01\n",
       "Gastrointestinal              2.168693e-02\n",
       "Infection                    -1.142471e-03\n",
       "Injury                        .           \n",
       "Mental_Health                -9.720294e-02\n",
       "Musculoskeletal               1.379244e-01\n",
       "Neurology                    -8.173827e-02\n",
       "Obstetrics_Gynaecology        7.051134e-03\n",
       "Paediatric                    7.759985e-03\n",
       "Respiratory                  -3.391229e-02\n",
       "Skin                          9.015376e-02\n",
       "Toxicology                   -3.609875e-02\n",
       "Unwell                        .           \n",
       "Urology                       8.849841e-03\n",
       "Unknown                      -2.336250e-02\n",
       "RR_LOW                       -2.736332e-03\n",
       "BP_critical                  -1.265541e-02\n",
       "HR_critical                  -1.586119e-02\n",
       "GCS_critical                 -4.207628e-03\n",
       "GCS_unresponsive             -8.571185e-03"
      ]
     },
     "metadata": {},
     "output_type": "display_data"
    },
    {
     "data": {
      "text/html": [
       "<table>\n",
       "<thead><tr><th scope=col>RMSE</th><th scope=col>Rsquare</th></tr></thead>\n",
       "<tbody>\n",
       "\t<tr><td>0.7643374</td><td>0.345461 </td></tr>\n",
       "</tbody>\n",
       "</table>\n"
      ],
      "text/latex": [
       "\\begin{tabular}{r|ll}\n",
       " RMSE & Rsquare\\\\\n",
       "\\hline\n",
       "\t 0.7643374 & 0.345461 \\\\\n",
       "\\end{tabular}\n"
      ],
      "text/markdown": [
       "\n",
       "| RMSE | Rsquare |\n",
       "|---|---|\n",
       "| 0.7643374 | 0.345461  |\n",
       "\n"
      ],
      "text/plain": [
       "  RMSE      Rsquare \n",
       "1 0.7643374 0.345461"
      ]
     },
     "metadata": {},
     "output_type": "display_data"
    }
   ],
   "source": [
    "# Build the model Compute lasso regression:\n",
    "set.seed(123)\n",
    "lasso <- train(\n",
    "  TRIAGE_CATEGORY ~., data = train.data, method = \"glmnet\",\n",
    "  trControl = trainControl(\"cv\", number = 10),\n",
    "  tuneGrid = expand.grid(alpha = 1, lambda = lambda)\n",
    "  )\n",
    "# Model coefficients\n",
    "coef(lasso$finalModel, lasso$bestTune$lambda)\n",
    "# Make predictions\n",
    "predictions <- lasso %>% predict(test.data)\n",
    "# Model prediction performance\n",
    "data.frame(\n",
    "  RMSE = RMSE(predictions, test.data$TRIAGE_CATEGORY),\n",
    "  Rsquare = R2(predictions, test.data$TRIAGE_CATEGORY)\n",
    ")"
   ]
  },
  {
   "cell_type": "code",
   "execution_count": 23,
   "metadata": {},
   "outputs": [
    {
     "data": {
      "text/plain": [
       "63 x 1 sparse Matrix of class \"dgCMatrix\"\n",
       "                                         1\n",
       "(Intercept)                   3.155565e+00\n",
       "AGE                          -1.774938e-01\n",
       "ADMISSION_WITHIN_48_HOURS     1.482612e-02\n",
       "AVPU_1                       -2.689213e-02\n",
       "GCS_1                         5.230579e-02\n",
       "RR_1                         -1.227664e-01\n",
       "O2SATS_1                     -2.651902e-02\n",
       "FIO2_1                        .           \n",
       "PULSE_1                      -1.303034e-01\n",
       "HEART_RATE_1                  5.710473e-03\n",
       "SBP_1                        -6.063507e-02\n",
       "DBP_1                         4.750507e-02\n",
       "MAP_1                        -1.281590e-03\n",
       "TEMP_TYMP_1                  -1.769104e-02\n",
       "TEMP_ORAL_1                  -1.575827e-03\n",
       "PATIENT_HEIGHT               -8.435181e-02\n",
       "PATIENT_WEIGHT                1.420788e-02\n",
       "PREGNANCY_STATUS             -4.772100e-02\n",
       "SMOKING_STATUS               -1.279330e-02\n",
       "RECENT_SURGERY_WITHIN_30_DAY -4.810549e-06\n",
       "ANY_MEDICATION_USED          -2.805783e-03\n",
       "PREVIOUS_ENC_MEDS            -6.545090e-04\n",
       "MEDICATION_USED_STEROIDS     -5.339301e-03\n",
       "MEDICATION_USED_IMMUNO       -2.487055e-04\n",
       "MEDICATION_USED_ANTIB         4.802993e-03\n",
       "MEDICATION_USED_ANTINF        9.545986e-04\n",
       "MEDICATION_USED_OTHER         .           \n",
       "Mon                           2.377378e-03\n",
       "Tue                          -2.243864e-03\n",
       "Wed                          -3.731457e-03\n",
       "Thu                          -9.901236e-04\n",
       "Fri                           .           \n",
       "Sat                           2.233915e-03\n",
       "Sun                           3.689577e-03\n",
       "Night                         .           \n",
       "Morning                      -2.086556e-02\n",
       "Afternoon                    -2.964883e-02\n",
       "Evening                       1.740058e-02\n",
       "Female                        4.672675e-03\n",
       "Male                         -3.386543e-05\n",
       "Administration                2.063860e-01\n",
       "Cardiovascular               -2.969978e-01\n",
       "Endocrine                    -2.198651e-02\n",
       "ENT_face                      1.041896e-01\n",
       "Gastrointestinal              2.236347e-02\n",
       "Infection                    -1.430131e-03\n",
       "Injury                        .           \n",
       "Mental_Health                -9.776385e-02\n",
       "Musculoskeletal               1.384884e-01\n",
       "Neurology                    -8.219160e-02\n",
       "Obstetrics_Gynaecology        7.612987e-03\n",
       "Paediatric                    8.475317e-03\n",
       "Respiratory                  -3.413253e-02\n",
       "Skin                          9.076580e-02\n",
       "Toxicology                   -3.672546e-02\n",
       "Unwell                        .           \n",
       "Urology                       9.638962e-03\n",
       "Unknown                      -2.395227e-02\n",
       "RR_LOW                       -3.417865e-03\n",
       "BP_critical                  -1.335685e-02\n",
       "HR_critical                  -1.662752e-02\n",
       "GCS_critical                 -6.583003e-03\n",
       "GCS_unresponsive             -1.021917e-02"
      ]
     },
     "metadata": {},
     "output_type": "display_data"
    },
    {
     "data": {
      "text/html": [
       "<table>\n",
       "<thead><tr><th scope=col>RMSE</th><th scope=col>Rsquare</th></tr></thead>\n",
       "<tbody>\n",
       "\t<tr><td>0.7642905</td><td>0.3455363</td></tr>\n",
       "</tbody>\n",
       "</table>\n"
      ],
      "text/latex": [
       "\\begin{tabular}{r|ll}\n",
       " RMSE & Rsquare\\\\\n",
       "\\hline\n",
       "\t 0.7642905 & 0.3455363\\\\\n",
       "\\end{tabular}\n"
      ],
      "text/markdown": [
       "\n",
       "| RMSE | Rsquare |\n",
       "|---|---|\n",
       "| 0.7642905 | 0.3455363 |\n",
       "\n"
      ],
      "text/plain": [
       "  RMSE      Rsquare  \n",
       "1 0.7642905 0.3455363"
      ]
     },
     "metadata": {},
     "output_type": "display_data"
    }
   ],
   "source": [
    "# Build the model Elastic net regression\n",
    "set.seed(123)\n",
    "elastic <- train(\n",
    "  TRIAGE_CATEGORY ~., data = train.data, method = \"glmnet\",\n",
    "  trControl = trainControl(\"cv\", number = 10),\n",
    "  tuneLength = 10\n",
    "  )\n",
    "# Model coefficients\n",
    "coef(elastic$finalModel, elastic$bestTune$lambda)\n",
    "# Make predictions\n",
    "predictions <- elastic %>% predict(test.data)\n",
    "# Model prediction performance\n",
    "data.frame(\n",
    "  RMSE = RMSE(predictions, test.data$TRIAGE_CATEGORY),\n",
    "  Rsquare = R2(predictions, test.data$TRIAGE_CATEGORY)\n",
    ")"
   ]
  },
  {
   "cell_type": "code",
   "execution_count": 24,
   "metadata": {},
   "outputs": [
    {
     "data": {
      "text/plain": [
       "\n",
       "Call:\n",
       "summary.resamples(object = ., metric = \"RMSE\")\n",
       "\n",
       "Models: ridge, lasso, elastic \n",
       "Number of resamples: 10 \n",
       "\n",
       "RMSE \n",
       "             Min.   1st Qu.    Median      Mean   3rd Qu.      Max. NA's\n",
       "ridge   0.7601141 0.7625952 0.7651855 0.7641747 0.7659025 0.7672575    0\n",
       "lasso   0.7598294 0.7623348 0.7649737 0.7639483 0.7656544 0.7671686    0\n",
       "elastic 0.7597656 0.7622812 0.7649383 0.7638989 0.7656334 0.7671351    0\n"
      ]
     },
     "metadata": {},
     "output_type": "display_data"
    }
   ],
   "source": [
    "models <- list(ridge = ridge, lasso = lasso, elastic = elastic)\n",
    "resamples(models) %>% summary( metric = \"RMSE\")"
   ]
  }
 ],
 "metadata": {
  "kernelspec": {
   "display_name": "R",
   "language": "R",
   "name": "ir"
  },
  "language_info": {
   "codemirror_mode": "r",
   "file_extension": ".r",
   "mimetype": "text/x-r-source",
   "name": "R",
   "pygments_lexer": "r",
   "version": "3.6.1"
  }
 },
 "nbformat": 4,
 "nbformat_minor": 4
}
